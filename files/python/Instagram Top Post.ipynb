{
 "cells": [
  {
   "cell_type": "markdown",
   "metadata": {},
   "source": [
    "## Model Selection - Instagram Top Post"
   ]
  },
  {
   "cell_type": "code",
   "execution_count": 1,
   "metadata": {},
   "outputs": [],
   "source": [
    "# Importing the required libraries\n",
    "import numpy as np\n",
    "import pandas as pd\n",
    "import matplotlib.pyplot as plt\n",
    "import seaborn as sns\n",
    "\n",
    "from sklearn.preprocessing import LabelEncoder\n",
    "from sklearn.model_selection import train_test_split, cross_val_score\n",
    "from sklearn.linear_model import LogisticRegression\n",
    "from sklearn.ensemble import RandomForestClassifier\n",
    "from sklearn.neural_network import MLPClassifier\n",
    "from sklearn.metrics import confusion_matrix , classification_report, f1_score,\\\n",
    "                            accuracy_score, precision_score, recall_score, f1_score\n",
    "from sklearn.model_selection import GridSearchCV\n",
    "\n",
    "SEED = 0"
   ]
  },
  {
   "cell_type": "code",
   "execution_count": 2,
   "metadata": {},
   "outputs": [
    {
     "data": {
      "text/html": [
       "<div>\n",
       "<style scoped>\n",
       "    .dataframe tbody tr th:only-of-type {\n",
       "        vertical-align: middle;\n",
       "    }\n",
       "\n",
       "    .dataframe tbody tr th {\n",
       "        vertical-align: top;\n",
       "    }\n",
       "\n",
       "    .dataframe thead th {\n",
       "        text-align: right;\n",
       "    }\n",
       "</style>\n",
       "<table border=\"1\" class=\"dataframe\">\n",
       "  <thead>\n",
       "    <tr style=\"text-align: right;\">\n",
       "      <th></th>\n",
       "      <th>height</th>\n",
       "      <th>width</th>\n",
       "      <th>has_audio</th>\n",
       "      <th>video_view_count</th>\n",
       "      <th>is_video</th>\n",
       "      <th>is_verified</th>\n",
       "      <th>followers_count</th>\n",
       "      <th>comments_count</th>\n",
       "      <th>hashtag_count</th>\n",
       "      <th>like_count</th>\n",
       "      <th>tag_name</th>\n",
       "      <th>caption_length</th>\n",
       "      <th>is_top</th>\n",
       "    </tr>\n",
       "  </thead>\n",
       "  <tbody>\n",
       "    <tr>\n",
       "      <th>0</th>\n",
       "      <td>1349</td>\n",
       "      <td>1080</td>\n",
       "      <td>False</td>\n",
       "      <td>0</td>\n",
       "      <td>False</td>\n",
       "      <td>False</td>\n",
       "      <td>774304</td>\n",
       "      <td>626</td>\n",
       "      <td>0</td>\n",
       "      <td>50311</td>\n",
       "      <td>2021</td>\n",
       "      <td>49</td>\n",
       "      <td>1</td>\n",
       "    </tr>\n",
       "    <tr>\n",
       "      <th>1</th>\n",
       "      <td>1332</td>\n",
       "      <td>1080</td>\n",
       "      <td>False</td>\n",
       "      <td>0</td>\n",
       "      <td>False</td>\n",
       "      <td>False</td>\n",
       "      <td>68438</td>\n",
       "      <td>7</td>\n",
       "      <td>11</td>\n",
       "      <td>1957</td>\n",
       "      <td>2021</td>\n",
       "      <td>382</td>\n",
       "      <td>1</td>\n",
       "    </tr>\n",
       "    <tr>\n",
       "      <th>2</th>\n",
       "      <td>1350</td>\n",
       "      <td>1080</td>\n",
       "      <td>False</td>\n",
       "      <td>0</td>\n",
       "      <td>False</td>\n",
       "      <td>False</td>\n",
       "      <td>3122</td>\n",
       "      <td>102</td>\n",
       "      <td>23</td>\n",
       "      <td>595</td>\n",
       "      <td>2021</td>\n",
       "      <td>377</td>\n",
       "      <td>1</td>\n",
       "    </tr>\n",
       "    <tr>\n",
       "      <th>3</th>\n",
       "      <td>1080</td>\n",
       "      <td>1080</td>\n",
       "      <td>False</td>\n",
       "      <td>0</td>\n",
       "      <td>False</td>\n",
       "      <td>False</td>\n",
       "      <td>250500</td>\n",
       "      <td>123573</td>\n",
       "      <td>5</td>\n",
       "      <td>8290</td>\n",
       "      <td>2021</td>\n",
       "      <td>512</td>\n",
       "      <td>1</td>\n",
       "    </tr>\n",
       "    <tr>\n",
       "      <th>4</th>\n",
       "      <td>1349</td>\n",
       "      <td>1080</td>\n",
       "      <td>False</td>\n",
       "      <td>0</td>\n",
       "      <td>False</td>\n",
       "      <td>False</td>\n",
       "      <td>3578</td>\n",
       "      <td>26</td>\n",
       "      <td>4</td>\n",
       "      <td>365</td>\n",
       "      <td>2021</td>\n",
       "      <td>45</td>\n",
       "      <td>1</td>\n",
       "    </tr>\n",
       "    <tr>\n",
       "      <th>...</th>\n",
       "      <td>...</td>\n",
       "      <td>...</td>\n",
       "      <td>...</td>\n",
       "      <td>...</td>\n",
       "      <td>...</td>\n",
       "      <td>...</td>\n",
       "      <td>...</td>\n",
       "      <td>...</td>\n",
       "      <td>...</td>\n",
       "      <td>...</td>\n",
       "      <td>...</td>\n",
       "      <td>...</td>\n",
       "      <td>...</td>\n",
       "    </tr>\n",
       "    <tr>\n",
       "      <th>2165</th>\n",
       "      <td>1085</td>\n",
       "      <td>1080</td>\n",
       "      <td>False</td>\n",
       "      <td>0</td>\n",
       "      <td>False</td>\n",
       "      <td>False</td>\n",
       "      <td>2002</td>\n",
       "      <td>28</td>\n",
       "      <td>15</td>\n",
       "      <td>74</td>\n",
       "      <td>world</td>\n",
       "      <td>671</td>\n",
       "      <td>0</td>\n",
       "    </tr>\n",
       "    <tr>\n",
       "      <th>2166</th>\n",
       "      <td>750</td>\n",
       "      <td>750</td>\n",
       "      <td>True</td>\n",
       "      <td>48</td>\n",
       "      <td>True</td>\n",
       "      <td>False</td>\n",
       "      <td>72</td>\n",
       "      <td>0</td>\n",
       "      <td>8</td>\n",
       "      <td>7</td>\n",
       "      <td>world</td>\n",
       "      <td>51</td>\n",
       "      <td>0</td>\n",
       "    </tr>\n",
       "    <tr>\n",
       "      <th>2167</th>\n",
       "      <td>1080</td>\n",
       "      <td>1080</td>\n",
       "      <td>False</td>\n",
       "      <td>0</td>\n",
       "      <td>False</td>\n",
       "      <td>False</td>\n",
       "      <td>1386</td>\n",
       "      <td>0</td>\n",
       "      <td>19</td>\n",
       "      <td>4</td>\n",
       "      <td>world</td>\n",
       "      <td>200</td>\n",
       "      <td>0</td>\n",
       "    </tr>\n",
       "    <tr>\n",
       "      <th>2168</th>\n",
       "      <td>1110</td>\n",
       "      <td>1080</td>\n",
       "      <td>False</td>\n",
       "      <td>0</td>\n",
       "      <td>False</td>\n",
       "      <td>False</td>\n",
       "      <td>450271</td>\n",
       "      <td>260</td>\n",
       "      <td>19</td>\n",
       "      <td>8371</td>\n",
       "      <td>world</td>\n",
       "      <td>463</td>\n",
       "      <td>0</td>\n",
       "    </tr>\n",
       "    <tr>\n",
       "      <th>2169</th>\n",
       "      <td>640</td>\n",
       "      <td>640</td>\n",
       "      <td>False</td>\n",
       "      <td>26</td>\n",
       "      <td>True</td>\n",
       "      <td>False</td>\n",
       "      <td>42</td>\n",
       "      <td>0</td>\n",
       "      <td>29</td>\n",
       "      <td>17</td>\n",
       "      <td>world</td>\n",
       "      <td>429</td>\n",
       "      <td>0</td>\n",
       "    </tr>\n",
       "  </tbody>\n",
       "</table>\n",
       "<p>2170 rows × 13 columns</p>\n",
       "</div>"
      ],
      "text/plain": [
       "      height  width  has_audio  video_view_count  is_video  is_verified  \\\n",
       "0       1349   1080      False                 0     False        False   \n",
       "1       1332   1080      False                 0     False        False   \n",
       "2       1350   1080      False                 0     False        False   \n",
       "3       1080   1080      False                 0     False        False   \n",
       "4       1349   1080      False                 0     False        False   \n",
       "...      ...    ...        ...               ...       ...          ...   \n",
       "2165    1085   1080      False                 0     False        False   \n",
       "2166     750    750       True                48      True        False   \n",
       "2167    1080   1080      False                 0     False        False   \n",
       "2168    1110   1080      False                 0     False        False   \n",
       "2169     640    640      False                26      True        False   \n",
       "\n",
       "      followers_count  comments_count  hashtag_count  like_count tag_name  \\\n",
       "0              774304             626              0       50311     2021   \n",
       "1               68438               7             11        1957     2021   \n",
       "2                3122             102             23         595     2021   \n",
       "3              250500          123573              5        8290     2021   \n",
       "4                3578              26              4         365     2021   \n",
       "...               ...             ...            ...         ...      ...   \n",
       "2165             2002              28             15          74    world   \n",
       "2166               72               0              8           7    world   \n",
       "2167             1386               0             19           4    world   \n",
       "2168           450271             260             19        8371    world   \n",
       "2169               42               0             29          17    world   \n",
       "\n",
       "      caption_length  is_top  \n",
       "0                 49       1  \n",
       "1                382       1  \n",
       "2                377       1  \n",
       "3                512       1  \n",
       "4                 45       1  \n",
       "...              ...     ...  \n",
       "2165             671       0  \n",
       "2166              51       0  \n",
       "2167             200       0  \n",
       "2168             463       0  \n",
       "2169             429       0  \n",
       "\n",
       "[2170 rows x 13 columns]"
      ]
     },
     "execution_count": 2,
     "metadata": {},
     "output_type": "execute_result"
    }
   ],
   "source": [
    "# Load required data\n",
    "df = pd.read_csv(\"db.csv\")\n",
    "\n",
    "# View the data\n",
    "df"
   ]
  },
  {
   "cell_type": "code",
   "execution_count": 3,
   "metadata": {},
   "outputs": [
    {
     "name": "stdout",
     "output_type": "stream",
     "text": [
      "height\n",
      "width\n",
      "has_audio\n",
      "video_view_count\n",
      "is_video\n",
      "is_verified\n",
      "followers_count\n",
      "comments_count\n",
      "hashtag_count\n",
      "like_count\n",
      "tag_name\n",
      "caption_length\n",
      "is_top\n"
     ]
    }
   ],
   "source": [
    "for i in df:\n",
    "    print(i)"
   ]
  },
  {
   "cell_type": "code",
   "execution_count": 4,
   "metadata": {},
   "outputs": [
    {
     "data": {
      "text/plain": [
       "1    1099\n",
       "0    1071\n",
       "Name: is_top, dtype: int64"
      ]
     },
     "execution_count": 4,
     "metadata": {},
     "output_type": "execute_result"
    }
   ],
   "source": [
    "# Is the data balanced?\n",
    "df['is_top'].value_counts()"
   ]
  },
  {
   "cell_type": "markdown",
   "metadata": {},
   "source": [
    "### Step 2: Data Pre-processing & Exploratory Analysis"
   ]
  },
  {
   "cell_type": "code",
   "execution_count": 5,
   "metadata": {
    "scrolled": true
   },
   "outputs": [
    {
     "name": "stdout",
     "output_type": "stream",
     "text": [
      "<class 'pandas.core.frame.DataFrame'>\n",
      "RangeIndex: 2170 entries, 0 to 2169\n",
      "Data columns (total 13 columns):\n",
      " #   Column            Non-Null Count  Dtype \n",
      "---  ------            --------------  ----- \n",
      " 0   height            2170 non-null   int64 \n",
      " 1   width             2170 non-null   int64 \n",
      " 2   has_audio         2170 non-null   bool  \n",
      " 3   video_view_count  2170 non-null   int64 \n",
      " 4   is_video          2170 non-null   bool  \n",
      " 5   is_verified       2170 non-null   bool  \n",
      " 6   followers_count   2170 non-null   int64 \n",
      " 7   comments_count    2170 non-null   int64 \n",
      " 8   hashtag_count     2170 non-null   int64 \n",
      " 9   like_count        2170 non-null   int64 \n",
      " 10  tag_name          2170 non-null   object\n",
      " 11  caption_length    2170 non-null   int64 \n",
      " 12  is_top            2170 non-null   int64 \n",
      "dtypes: bool(3), int64(9), object(1)\n",
      "memory usage: 176.0+ KB\n"
     ]
    }
   ],
   "source": [
    "df.info()"
   ]
  },
  {
   "cell_type": "code",
   "execution_count": 6,
   "metadata": {},
   "outputs": [],
   "source": [
    "# Convert the 'has_audio' column from bool to object\n",
    "df.has_audio= df['has_audio'].apply(lambda x : 'No' if x == 0 else 'Yes')"
   ]
  },
  {
   "cell_type": "code",
   "execution_count": 7,
   "metadata": {},
   "outputs": [],
   "source": [
    "# Convert the 'is_video' from bool to object\n",
    "df.is_video= df['is_video'].apply(lambda x : 'No' if x == 0 else 'Yes')"
   ]
  },
  {
   "cell_type": "code",
   "execution_count": 8,
   "metadata": {},
   "outputs": [],
   "source": [
    "# Convert the 'is_verified' column from bool to object\n",
    "df.is_verified= df['is_verified'].apply(lambda x : 'No' if x == 0 else 'Yes')"
   ]
  },
  {
   "cell_type": "code",
   "execution_count": 9,
   "metadata": {},
   "outputs": [
    {
     "name": "stdout",
     "output_type": "stream",
     "text": [
      "<class 'pandas.core.frame.DataFrame'>\n",
      "RangeIndex: 2170 entries, 0 to 2169\n",
      "Data columns (total 13 columns):\n",
      " #   Column            Non-Null Count  Dtype \n",
      "---  ------            --------------  ----- \n",
      " 0   height            2170 non-null   int64 \n",
      " 1   width             2170 non-null   int64 \n",
      " 2   has_audio         2170 non-null   object\n",
      " 3   video_view_count  2170 non-null   int64 \n",
      " 4   is_video          2170 non-null   object\n",
      " 5   is_verified       2170 non-null   object\n",
      " 6   followers_count   2170 non-null   int64 \n",
      " 7   comments_count    2170 non-null   int64 \n",
      " 8   hashtag_count     2170 non-null   int64 \n",
      " 9   like_count        2170 non-null   int64 \n",
      " 10  tag_name          2170 non-null   object\n",
      " 11  caption_length    2170 non-null   int64 \n",
      " 12  is_top            2170 non-null   int64 \n",
      "dtypes: int64(9), object(4)\n",
      "memory usage: 220.5+ KB\n"
     ]
    }
   ],
   "source": [
    "df.info()"
   ]
  },
  {
   "cell_type": "code",
   "execution_count": 10,
   "metadata": {
    "scrolled": true
   },
   "outputs": [
    {
     "data": {
      "text/plain": [
       "height              False\n",
       "width               False\n",
       "has_audio           False\n",
       "video_view_count    False\n",
       "is_video            False\n",
       "is_verified         False\n",
       "followers_count     False\n",
       "comments_count      False\n",
       "hashtag_count       False\n",
       "like_count          False\n",
       "tag_name            False\n",
       "caption_length      False\n",
       "is_top              False\n",
       "dtype: bool"
      ]
     },
     "execution_count": 10,
     "metadata": {},
     "output_type": "execute_result"
    }
   ],
   "source": [
    "# Any missing values to clean?\n",
    "df.isna().any()"
   ]
  },
  {
   "cell_type": "markdown",
   "metadata": {},
   "source": [
    "### Visualizations to see how independent variables contribute to a top post"
   ]
  },
  {
   "cell_type": "code",
   "execution_count": 11,
   "metadata": {
    "scrolled": false
   },
   "outputs": [
    {
     "data": {
      "image/png": "[encoded data removed]",
      "text/plain": [
       "<Figure size 720x3960 with 9 Axes>"
      ]
     },
     "metadata": {
      "needs_background": "light"
     },
     "output_type": "display_data"
    }
   ],
   "source": [
    "# # Visualizations of the non-object (int64) variables\n",
    "continuous_vars = [i for i in df.columns if df[i].dtypes !='object']\n",
    "fig,ax = plt.subplots(9,1,figsize=(10,55))\n",
    "\n",
    "for i,x in enumerate(continuous_vars):\n",
    "    ax[i].hist(df[x][df.is_top==0],label='is_top=0',bins=20)\n",
    "    ax[i].hist(df[x][df.is_top==1],label='is_top=1',bins=20)\n",
    "    ax[i].set(xlabel=x,ylabel='count')\n",
    "    ax[i].legend()"
   ]
  },
  {
   "cell_type": "code",
   "execution_count": 12,
   "metadata": {},
   "outputs": [
    {
     "data": {
      "text/plain": [
       "['height',\n",
       " 'width',\n",
       " 'video_view_count',\n",
       " 'followers_count',\n",
       " 'comments_count',\n",
       " 'hashtag_count',\n",
       " 'like_count',\n",
       " 'caption_length',\n",
       " 'is_top']"
      ]
     },
     "execution_count": 12,
     "metadata": {},
     "output_type": "execute_result"
    }
   ],
   "source": [
    "continuous_vars"
   ]
  },
  {
   "cell_type": "code",
   "execution_count": 13,
   "metadata": {
    "scrolled": true
   },
   "outputs": [
    {
     "data": {
      "image/png": "[encoded data removed]",
      "text/plain": [
       "<Figure size 1080x216 with 4 Axes>"
      ]
     },
     "metadata": {
      "needs_background": "light"
     },
     "output_type": "display_data"
    }
   ],
   "source": [
    "# Visualizations of the object variables\n",
    "categorical_var = [i for i in df.columns if df[i].dtypes =='object']\n",
    "catVars_isTop = categorical_var[:-1]\n",
    "\n",
    "fig ,ax = plt.subplots(1,4,figsize=(15,3))\n",
    "for axi ,var in zip(ax.flat,catVars_isTop):\n",
    "    sns.countplot(x=df.is_top,hue=df[var],ax=axi)"
   ]
  },
  {
   "cell_type": "code",
   "execution_count": 14,
   "metadata": {},
   "outputs": [
    {
     "data": {
      "text/plain": [
       "['has_audio', 'is_video', 'is_verified', 'tag_name']"
      ]
     },
     "execution_count": 14,
     "metadata": {},
     "output_type": "execute_result"
    }
   ],
   "source": [
    "categorical_var"
   ]
  },
  {
   "cell_type": "code",
   "execution_count": 15,
   "metadata": {},
   "outputs": [
    {
     "name": "stdout",
     "output_type": "stream",
     "text": [
      "has_audio ['No' 'Yes']\n",
      "is_video ['No' 'Yes']\n",
      "is_verified ['No' 'Yes']\n",
      "is_top [1 0]\n"
     ]
    }
   ],
   "source": [
    "# Label Encoding for features with 2 classes\n",
    "le = LabelEncoder()\n",
    "for x in [i for i in df.columns if len(df[i].unique())==2]:\n",
    "    print(x, df[x].unique())\n",
    "    df[x]= le.fit_transform(df[x])"
   ]
  },
  {
   "cell_type": "code",
   "execution_count": 16,
   "metadata": {},
   "outputs": [],
   "source": [
    "# One Hot Encoding for features with more than 2 classes\n",
    "df = pd.get_dummies(df, columns= [i for i in df.columns if df[i].dtypes=='object'],drop_first=True)"
   ]
  },
  {
   "cell_type": "code",
   "execution_count": 17,
   "metadata": {
    "scrolled": true
   },
   "outputs": [
    {
     "data": {
      "text/html": [
       "<div>\n",
       "<style scoped>\n",
       "    .dataframe tbody tr th:only-of-type {\n",
       "        vertical-align: middle;\n",
       "    }\n",
       "\n",
       "    .dataframe tbody tr th {\n",
       "        vertical-align: top;\n",
       "    }\n",
       "\n",
       "    .dataframe thead th {\n",
       "        text-align: right;\n",
       "    }\n",
       "</style>\n",
       "<table border=\"1\" class=\"dataframe\">\n",
       "  <thead>\n",
       "    <tr style=\"text-align: right;\">\n",
       "      <th></th>\n",
       "      <th>height</th>\n",
       "      <th>width</th>\n",
       "      <th>has_audio</th>\n",
       "      <th>video_view_count</th>\n",
       "      <th>is_video</th>\n",
       "      <th>is_verified</th>\n",
       "      <th>followers_count</th>\n",
       "      <th>comments_count</th>\n",
       "      <th>hashtag_count</th>\n",
       "      <th>like_count</th>\n",
       "      <th>...</th>\n",
       "      <th>tag_name_travel</th>\n",
       "      <th>tag_name_trump</th>\n",
       "      <th>tag_name_university</th>\n",
       "      <th>tag_name_water</th>\n",
       "      <th>tag_name_wolf</th>\n",
       "      <th>tag_name_women</th>\n",
       "      <th>tag_name_word</th>\n",
       "      <th>tag_name_workathome</th>\n",
       "      <th>tag_name_workonline</th>\n",
       "      <th>tag_name_world</th>\n",
       "    </tr>\n",
       "  </thead>\n",
       "  <tbody>\n",
       "    <tr>\n",
       "      <th>1674</th>\n",
       "      <td>750</td>\n",
       "      <td>750</td>\n",
       "      <td>1</td>\n",
       "      <td>50</td>\n",
       "      <td>1</td>\n",
       "      <td>0</td>\n",
       "      <td>30</td>\n",
       "      <td>0</td>\n",
       "      <td>6</td>\n",
       "      <td>4</td>\n",
       "      <td>...</td>\n",
       "      <td>0</td>\n",
       "      <td>0</td>\n",
       "      <td>0</td>\n",
       "      <td>0</td>\n",
       "      <td>0</td>\n",
       "      <td>0</td>\n",
       "      <td>0</td>\n",
       "      <td>0</td>\n",
       "      <td>0</td>\n",
       "      <td>0</td>\n",
       "    </tr>\n",
       "    <tr>\n",
       "      <th>1978</th>\n",
       "      <td>1080</td>\n",
       "      <td>1080</td>\n",
       "      <td>0</td>\n",
       "      <td>0</td>\n",
       "      <td>0</td>\n",
       "      <td>0</td>\n",
       "      <td>5563</td>\n",
       "      <td>11</td>\n",
       "      <td>0</td>\n",
       "      <td>153</td>\n",
       "      <td>...</td>\n",
       "      <td>0</td>\n",
       "      <td>0</td>\n",
       "      <td>0</td>\n",
       "      <td>0</td>\n",
       "      <td>0</td>\n",
       "      <td>0</td>\n",
       "      <td>0</td>\n",
       "      <td>0</td>\n",
       "      <td>0</td>\n",
       "      <td>0</td>\n",
       "    </tr>\n",
       "    <tr>\n",
       "      <th>1746</th>\n",
       "      <td>645</td>\n",
       "      <td>1080</td>\n",
       "      <td>0</td>\n",
       "      <td>0</td>\n",
       "      <td>0</td>\n",
       "      <td>0</td>\n",
       "      <td>188</td>\n",
       "      <td>0</td>\n",
       "      <td>19</td>\n",
       "      <td>1</td>\n",
       "      <td>...</td>\n",
       "      <td>0</td>\n",
       "      <td>0</td>\n",
       "      <td>0</td>\n",
       "      <td>0</td>\n",
       "      <td>0</td>\n",
       "      <td>0</td>\n",
       "      <td>0</td>\n",
       "      <td>0</td>\n",
       "      <td>0</td>\n",
       "      <td>0</td>\n",
       "    </tr>\n",
       "    <tr>\n",
       "      <th>1191</th>\n",
       "      <td>658</td>\n",
       "      <td>750</td>\n",
       "      <td>0</td>\n",
       "      <td>0</td>\n",
       "      <td>0</td>\n",
       "      <td>0</td>\n",
       "      <td>483</td>\n",
       "      <td>15</td>\n",
       "      <td>14</td>\n",
       "      <td>62</td>\n",
       "      <td>...</td>\n",
       "      <td>0</td>\n",
       "      <td>0</td>\n",
       "      <td>0</td>\n",
       "      <td>0</td>\n",
       "      <td>0</td>\n",
       "      <td>0</td>\n",
       "      <td>0</td>\n",
       "      <td>0</td>\n",
       "      <td>0</td>\n",
       "      <td>0</td>\n",
       "    </tr>\n",
       "    <tr>\n",
       "      <th>990</th>\n",
       "      <td>1080</td>\n",
       "      <td>1080</td>\n",
       "      <td>0</td>\n",
       "      <td>0</td>\n",
       "      <td>0</td>\n",
       "      <td>0</td>\n",
       "      <td>1950</td>\n",
       "      <td>126</td>\n",
       "      <td>19</td>\n",
       "      <td>759</td>\n",
       "      <td>...</td>\n",
       "      <td>0</td>\n",
       "      <td>0</td>\n",
       "      <td>0</td>\n",
       "      <td>0</td>\n",
       "      <td>0</td>\n",
       "      <td>0</td>\n",
       "      <td>0</td>\n",
       "      <td>0</td>\n",
       "      <td>0</td>\n",
       "      <td>0</td>\n",
       "    </tr>\n",
       "    <tr>\n",
       "      <th>1013</th>\n",
       "      <td>600</td>\n",
       "      <td>480</td>\n",
       "      <td>0</td>\n",
       "      <td>0</td>\n",
       "      <td>0</td>\n",
       "      <td>0</td>\n",
       "      <td>124858</td>\n",
       "      <td>9</td>\n",
       "      <td>29</td>\n",
       "      <td>819</td>\n",
       "      <td>...</td>\n",
       "      <td>0</td>\n",
       "      <td>0</td>\n",
       "      <td>0</td>\n",
       "      <td>0</td>\n",
       "      <td>0</td>\n",
       "      <td>0</td>\n",
       "      <td>0</td>\n",
       "      <td>0</td>\n",
       "      <td>0</td>\n",
       "      <td>0</td>\n",
       "    </tr>\n",
       "    <tr>\n",
       "      <th>462</th>\n",
       "      <td>1350</td>\n",
       "      <td>1080</td>\n",
       "      <td>0</td>\n",
       "      <td>0</td>\n",
       "      <td>0</td>\n",
       "      <td>0</td>\n",
       "      <td>15899</td>\n",
       "      <td>65</td>\n",
       "      <td>22</td>\n",
       "      <td>528</td>\n",
       "      <td>...</td>\n",
       "      <td>0</td>\n",
       "      <td>0</td>\n",
       "      <td>0</td>\n",
       "      <td>0</td>\n",
       "      <td>0</td>\n",
       "      <td>0</td>\n",
       "      <td>0</td>\n",
       "      <td>0</td>\n",
       "      <td>0</td>\n",
       "      <td>0</td>\n",
       "    </tr>\n",
       "    <tr>\n",
       "      <th>495</th>\n",
       "      <td>640</td>\n",
       "      <td>640</td>\n",
       "      <td>0</td>\n",
       "      <td>0</td>\n",
       "      <td>0</td>\n",
       "      <td>0</td>\n",
       "      <td>699</td>\n",
       "      <td>12</td>\n",
       "      <td>0</td>\n",
       "      <td>187</td>\n",
       "      <td>...</td>\n",
       "      <td>0</td>\n",
       "      <td>0</td>\n",
       "      <td>0</td>\n",
       "      <td>0</td>\n",
       "      <td>0</td>\n",
       "      <td>0</td>\n",
       "      <td>0</td>\n",
       "      <td>0</td>\n",
       "      <td>0</td>\n",
       "      <td>0</td>\n",
       "    </tr>\n",
       "    <tr>\n",
       "      <th>2013</th>\n",
       "      <td>750</td>\n",
       "      <td>750</td>\n",
       "      <td>0</td>\n",
       "      <td>37</td>\n",
       "      <td>1</td>\n",
       "      <td>0</td>\n",
       "      <td>578</td>\n",
       "      <td>0</td>\n",
       "      <td>17</td>\n",
       "      <td>9</td>\n",
       "      <td>...</td>\n",
       "      <td>0</td>\n",
       "      <td>0</td>\n",
       "      <td>1</td>\n",
       "      <td>0</td>\n",
       "      <td>0</td>\n",
       "      <td>0</td>\n",
       "      <td>0</td>\n",
       "      <td>0</td>\n",
       "      <td>0</td>\n",
       "      <td>0</td>\n",
       "    </tr>\n",
       "    <tr>\n",
       "      <th>608</th>\n",
       "      <td>1348</td>\n",
       "      <td>1080</td>\n",
       "      <td>0</td>\n",
       "      <td>0</td>\n",
       "      <td>0</td>\n",
       "      <td>0</td>\n",
       "      <td>626462</td>\n",
       "      <td>45</td>\n",
       "      <td>22</td>\n",
       "      <td>10428</td>\n",
       "      <td>...</td>\n",
       "      <td>0</td>\n",
       "      <td>0</td>\n",
       "      <td>0</td>\n",
       "      <td>0</td>\n",
       "      <td>0</td>\n",
       "      <td>0</td>\n",
       "      <td>0</td>\n",
       "      <td>0</td>\n",
       "      <td>0</td>\n",
       "      <td>0</td>\n",
       "    </tr>\n",
       "    <tr>\n",
       "      <th>878</th>\n",
       "      <td>1349</td>\n",
       "      <td>1080</td>\n",
       "      <td>0</td>\n",
       "      <td>0</td>\n",
       "      <td>0</td>\n",
       "      <td>0</td>\n",
       "      <td>117806</td>\n",
       "      <td>242</td>\n",
       "      <td>30</td>\n",
       "      <td>11651</td>\n",
       "      <td>...</td>\n",
       "      <td>0</td>\n",
       "      <td>0</td>\n",
       "      <td>0</td>\n",
       "      <td>0</td>\n",
       "      <td>0</td>\n",
       "      <td>0</td>\n",
       "      <td>0</td>\n",
       "      <td>0</td>\n",
       "      <td>0</td>\n",
       "      <td>0</td>\n",
       "    </tr>\n",
       "    <tr>\n",
       "      <th>2005</th>\n",
       "      <td>1053</td>\n",
       "      <td>1080</td>\n",
       "      <td>0</td>\n",
       "      <td>0</td>\n",
       "      <td>0</td>\n",
       "      <td>0</td>\n",
       "      <td>338110</td>\n",
       "      <td>107</td>\n",
       "      <td>0</td>\n",
       "      <td>4287</td>\n",
       "      <td>...</td>\n",
       "      <td>0</td>\n",
       "      <td>1</td>\n",
       "      <td>0</td>\n",
       "      <td>0</td>\n",
       "      <td>0</td>\n",
       "      <td>0</td>\n",
       "      <td>0</td>\n",
       "      <td>0</td>\n",
       "      <td>0</td>\n",
       "      <td>0</td>\n",
       "    </tr>\n",
       "    <tr>\n",
       "      <th>653</th>\n",
       "      <td>1080</td>\n",
       "      <td>1080</td>\n",
       "      <td>0</td>\n",
       "      <td>0</td>\n",
       "      <td>0</td>\n",
       "      <td>0</td>\n",
       "      <td>1442</td>\n",
       "      <td>16</td>\n",
       "      <td>16</td>\n",
       "      <td>617</td>\n",
       "      <td>...</td>\n",
       "      <td>0</td>\n",
       "      <td>0</td>\n",
       "      <td>0</td>\n",
       "      <td>0</td>\n",
       "      <td>0</td>\n",
       "      <td>0</td>\n",
       "      <td>0</td>\n",
       "      <td>0</td>\n",
       "      <td>0</td>\n",
       "      <td>0</td>\n",
       "    </tr>\n",
       "    <tr>\n",
       "      <th>1252</th>\n",
       "      <td>1080</td>\n",
       "      <td>1080</td>\n",
       "      <td>0</td>\n",
       "      <td>0</td>\n",
       "      <td>0</td>\n",
       "      <td>0</td>\n",
       "      <td>714</td>\n",
       "      <td>0</td>\n",
       "      <td>27</td>\n",
       "      <td>3</td>\n",
       "      <td>...</td>\n",
       "      <td>0</td>\n",
       "      <td>0</td>\n",
       "      <td>0</td>\n",
       "      <td>0</td>\n",
       "      <td>0</td>\n",
       "      <td>0</td>\n",
       "      <td>0</td>\n",
       "      <td>0</td>\n",
       "      <td>0</td>\n",
       "      <td>0</td>\n",
       "    </tr>\n",
       "    <tr>\n",
       "      <th>548</th>\n",
       "      <td>640</td>\n",
       "      <td>640</td>\n",
       "      <td>0</td>\n",
       "      <td>0</td>\n",
       "      <td>0</td>\n",
       "      <td>0</td>\n",
       "      <td>614130</td>\n",
       "      <td>13</td>\n",
       "      <td>29</td>\n",
       "      <td>1771</td>\n",
       "      <td>...</td>\n",
       "      <td>0</td>\n",
       "      <td>0</td>\n",
       "      <td>0</td>\n",
       "      <td>0</td>\n",
       "      <td>0</td>\n",
       "      <td>0</td>\n",
       "      <td>0</td>\n",
       "      <td>0</td>\n",
       "      <td>0</td>\n",
       "      <td>0</td>\n",
       "    </tr>\n",
       "    <tr>\n",
       "      <th>440</th>\n",
       "      <td>1346</td>\n",
       "      <td>1080</td>\n",
       "      <td>0</td>\n",
       "      <td>0</td>\n",
       "      <td>0</td>\n",
       "      <td>0</td>\n",
       "      <td>120920</td>\n",
       "      <td>9</td>\n",
       "      <td>29</td>\n",
       "      <td>275</td>\n",
       "      <td>...</td>\n",
       "      <td>0</td>\n",
       "      <td>0</td>\n",
       "      <td>0</td>\n",
       "      <td>0</td>\n",
       "      <td>0</td>\n",
       "      <td>0</td>\n",
       "      <td>0</td>\n",
       "      <td>0</td>\n",
       "      <td>0</td>\n",
       "      <td>0</td>\n",
       "    </tr>\n",
       "    <tr>\n",
       "      <th>158</th>\n",
       "      <td>1080</td>\n",
       "      <td>1080</td>\n",
       "      <td>0</td>\n",
       "      <td>0</td>\n",
       "      <td>0</td>\n",
       "      <td>0</td>\n",
       "      <td>25226</td>\n",
       "      <td>32</td>\n",
       "      <td>30</td>\n",
       "      <td>557</td>\n",
       "      <td>...</td>\n",
       "      <td>0</td>\n",
       "      <td>0</td>\n",
       "      <td>0</td>\n",
       "      <td>0</td>\n",
       "      <td>0</td>\n",
       "      <td>0</td>\n",
       "      <td>0</td>\n",
       "      <td>0</td>\n",
       "      <td>0</td>\n",
       "      <td>0</td>\n",
       "    </tr>\n",
       "    <tr>\n",
       "      <th>1100</th>\n",
       "      <td>750</td>\n",
       "      <td>750</td>\n",
       "      <td>0</td>\n",
       "      <td>108</td>\n",
       "      <td>1</td>\n",
       "      <td>0</td>\n",
       "      <td>7045</td>\n",
       "      <td>0</td>\n",
       "      <td>28</td>\n",
       "      <td>16</td>\n",
       "      <td>...</td>\n",
       "      <td>0</td>\n",
       "      <td>0</td>\n",
       "      <td>0</td>\n",
       "      <td>0</td>\n",
       "      <td>0</td>\n",
       "      <td>0</td>\n",
       "      <td>0</td>\n",
       "      <td>0</td>\n",
       "      <td>0</td>\n",
       "      <td>0</td>\n",
       "    </tr>\n",
       "    <tr>\n",
       "      <th>2121</th>\n",
       "      <td>800</td>\n",
       "      <td>640</td>\n",
       "      <td>0</td>\n",
       "      <td>0</td>\n",
       "      <td>0</td>\n",
       "      <td>0</td>\n",
       "      <td>137</td>\n",
       "      <td>2</td>\n",
       "      <td>15</td>\n",
       "      <td>12</td>\n",
       "      <td>...</td>\n",
       "      <td>0</td>\n",
       "      <td>0</td>\n",
       "      <td>0</td>\n",
       "      <td>0</td>\n",
       "      <td>0</td>\n",
       "      <td>0</td>\n",
       "      <td>0</td>\n",
       "      <td>1</td>\n",
       "      <td>0</td>\n",
       "      <td>0</td>\n",
       "    </tr>\n",
       "    <tr>\n",
       "      <th>1281</th>\n",
       "      <td>905</td>\n",
       "      <td>1080</td>\n",
       "      <td>0</td>\n",
       "      <td>0</td>\n",
       "      <td>0</td>\n",
       "      <td>0</td>\n",
       "      <td>2284</td>\n",
       "      <td>0</td>\n",
       "      <td>5</td>\n",
       "      <td>4</td>\n",
       "      <td>...</td>\n",
       "      <td>0</td>\n",
       "      <td>0</td>\n",
       "      <td>0</td>\n",
       "      <td>0</td>\n",
       "      <td>0</td>\n",
       "      <td>0</td>\n",
       "      <td>0</td>\n",
       "      <td>0</td>\n",
       "      <td>0</td>\n",
       "      <td>0</td>\n",
       "    </tr>\n",
       "  </tbody>\n",
       "</table>\n",
       "<p>20 rows × 130 columns</p>\n",
       "</div>"
      ],
      "text/plain": [
       "      height  width  has_audio  video_view_count  is_video  is_verified  \\\n",
       "1674     750    750          1                50         1            0   \n",
       "1978    1080   1080          0                 0         0            0   \n",
       "1746     645   1080          0                 0         0            0   \n",
       "1191     658    750          0                 0         0            0   \n",
       "990     1080   1080          0                 0         0            0   \n",
       "1013     600    480          0                 0         0            0   \n",
       "462     1350   1080          0                 0         0            0   \n",
       "495      640    640          0                 0         0            0   \n",
       "2013     750    750          0                37         1            0   \n",
       "608     1348   1080          0                 0         0            0   \n",
       "878     1349   1080          0                 0         0            0   \n",
       "2005    1053   1080          0                 0         0            0   \n",
       "653     1080   1080          0                 0         0            0   \n",
       "1252    1080   1080          0                 0         0            0   \n",
       "548      640    640          0                 0         0            0   \n",
       "440     1346   1080          0                 0         0            0   \n",
       "158     1080   1080          0                 0         0            0   \n",
       "1100     750    750          0               108         1            0   \n",
       "2121     800    640          0                 0         0            0   \n",
       "1281     905   1080          0                 0         0            0   \n",
       "\n",
       "      followers_count  comments_count  hashtag_count  like_count  ...  \\\n",
       "1674               30               0              6           4  ...   \n",
       "1978             5563              11              0         153  ...   \n",
       "1746              188               0             19           1  ...   \n",
       "1191              483              15             14          62  ...   \n",
       "990              1950             126             19         759  ...   \n",
       "1013           124858               9             29         819  ...   \n",
       "462             15899              65             22         528  ...   \n",
       "495               699              12              0         187  ...   \n",
       "2013              578               0             17           9  ...   \n",
       "608            626462              45             22       10428  ...   \n",
       "878            117806             242             30       11651  ...   \n",
       "2005           338110             107              0        4287  ...   \n",
       "653              1442              16             16         617  ...   \n",
       "1252              714               0             27           3  ...   \n",
       "548            614130              13             29        1771  ...   \n",
       "440            120920               9             29         275  ...   \n",
       "158             25226              32             30         557  ...   \n",
       "1100             7045               0             28          16  ...   \n",
       "2121              137               2             15          12  ...   \n",
       "1281             2284               0              5           4  ...   \n",
       "\n",
       "      tag_name_travel  tag_name_trump  tag_name_university  tag_name_water  \\\n",
       "1674                0               0                    0               0   \n",
       "1978                0               0                    0               0   \n",
       "1746                0               0                    0               0   \n",
       "1191                0               0                    0               0   \n",
       "990                 0               0                    0               0   \n",
       "1013                0               0                    0               0   \n",
       "462                 0               0                    0               0   \n",
       "495                 0               0                    0               0   \n",
       "2013                0               0                    1               0   \n",
       "608                 0               0                    0               0   \n",
       "878                 0               0                    0               0   \n",
       "2005                0               1                    0               0   \n",
       "653                 0               0                    0               0   \n",
       "1252                0               0                    0               0   \n",
       "548                 0               0                    0               0   \n",
       "440                 0               0                    0               0   \n",
       "158                 0               0                    0               0   \n",
       "1100                0               0                    0               0   \n",
       "2121                0               0                    0               0   \n",
       "1281                0               0                    0               0   \n",
       "\n",
       "      tag_name_wolf  tag_name_women  tag_name_word  tag_name_workathome  \\\n",
       "1674              0               0              0                    0   \n",
       "1978              0               0              0                    0   \n",
       "1746              0               0              0                    0   \n",
       "1191              0               0              0                    0   \n",
       "990               0               0              0                    0   \n",
       "1013              0               0              0                    0   \n",
       "462               0               0              0                    0   \n",
       "495               0               0              0                    0   \n",
       "2013              0               0              0                    0   \n",
       "608               0               0              0                    0   \n",
       "878               0               0              0                    0   \n",
       "2005              0               0              0                    0   \n",
       "653               0               0              0                    0   \n",
       "1252              0               0              0                    0   \n",
       "548               0               0              0                    0   \n",
       "440               0               0              0                    0   \n",
       "158               0               0              0                    0   \n",
       "1100              0               0              0                    0   \n",
       "2121              0               0              0                    1   \n",
       "1281              0               0              0                    0   \n",
       "\n",
       "      tag_name_workonline  tag_name_world  \n",
       "1674                    0               0  \n",
       "1978                    0               0  \n",
       "1746                    0               0  \n",
       "1191                    0               0  \n",
       "990                     0               0  \n",
       "1013                    0               0  \n",
       "462                     0               0  \n",
       "495                     0               0  \n",
       "2013                    0               0  \n",
       "608                     0               0  \n",
       "878                     0               0  \n",
       "2005                    0               0  \n",
       "653                     0               0  \n",
       "1252                    0               0  \n",
       "548                     0               0  \n",
       "440                     0               0  \n",
       "158                     0               0  \n",
       "1100                    0               0  \n",
       "2121                    0               0  \n",
       "1281                    0               0  \n",
       "\n",
       "[20 rows x 130 columns]"
      ]
     },
     "execution_count": 17,
     "metadata": {},
     "output_type": "execute_result"
    }
   ],
   "source": [
    "df.sample(20)"
   ]
  },
  {
   "cell_type": "code",
   "execution_count": 18,
   "metadata": {},
   "outputs": [
    {
     "name": "stdout",
     "output_type": "stream",
     "text": [
      "height\n",
      "width\n",
      "has_audio\n",
      "video_view_count\n",
      "is_video\n",
      "is_verified\n",
      "followers_count\n",
      "comments_count\n",
      "hashtag_count\n",
      "like_count\n",
      "caption_length\n",
      "is_top\n",
      "tag_name_Afghanistan\n",
      "tag_name_Albania\n",
      "tag_name_Algeria\n",
      "tag_name_Angola\n",
      "tag_name_Argentina\n",
      "tag_name_Australia\n",
      "tag_name_Austria\n",
      "tag_name_Belgium\n",
      "tag_name_Brazil\n",
      "tag_name_Cameroon\n",
      "tag_name_Chile\n",
      "tag_name_Computer\n",
      "tag_name_Ecuador\n",
      "tag_name_Egypt\n",
      "tag_name_Greece\n",
      "tag_name_Iraq\n",
      "tag_name_Israel\n",
      "tag_name_Mexico\n",
      "tag_name_Morocco\n",
      "tag_name_NBA\n",
      "tag_name_Netherlands\n",
      "tag_name_New_Zealand\n",
      "tag_name_Oman\n",
      "tag_name_Pakistan\n",
      "tag_name_Philippines\n",
      "tag_name_Poland\n",
      "tag_name_Portugal\n",
      "tag_name_Qatar\n",
      "tag_name_Romania\n",
      "tag_name_Senegal\n",
      "tag_name_Serbia\n",
      "tag_name_Spain\n",
      "tag_name_Thailand\n",
      "tag_name_Turkey\n",
      "tag_name_USA\n",
      "tag_name_Ukraine\n",
      "tag_name_Uzbekistan\n",
      "tag_name_amazon\n",
      "tag_name_animal\n",
      "tag_name_arab\n",
      "tag_name_artwork\n",
      "tag_name_asia\n",
      "tag_name_bitcoin\n",
      "tag_name_blockchain\n",
      "tag_name_buy\n",
      "tag_name_canada\n",
      "tag_name_cat\n",
      "tag_name_ceo\n",
      "tag_name_chef\n",
      "tag_name_chigago\n",
      "tag_name_china\n",
      "tag_name_club\n",
      "tag_name_collection\n",
      "tag_name_dairyfree\n",
      "tag_name_dog\n",
      "tag_name_europe\n",
      "tag_name_films\n",
      "tag_name_fish\n",
      "tag_name_florida\n",
      "tag_name_food\n",
      "tag_name_football\n",
      "tag_name_forex\n",
      "tag_name_forexlife\n",
      "tag_name_game\n",
      "tag_name_germany\n",
      "tag_name_girl\n",
      "tag_name_girls\n",
      "tag_name_god\n",
      "tag_name_goldenretriever\n",
      "tag_name_gym\n",
      "tag_name_hard\n",
      "tag_name_home\n",
      "tag_name_house\n",
      "tag_name_iran\n",
      "tag_name_japan\n",
      "tag_name_jumper\n",
      "tag_name_lazday\n",
      "tag_name_london\n",
      "tag_name_love\n",
      "tag_name_mensstyle\n",
      "tag_name_messi\n",
      "tag_name_minesota\n",
      "tag_name_movie\n",
      "tag_name_newyear\n",
      "tag_name_newyork\n",
      "tag_name_pasta\n",
      "tag_name_perfumes\n",
      "tag_name_photography\n",
      "tag_name_play\n",
      "tag_name_programing\n",
      "tag_name_puppy\n",
      "tag_name_qoute\n",
      "tag_name_recipes\n",
      "tag_name_ronaldo\n",
      "tag_name_sale\n",
      "tag_name_sea\n",
      "tag_name_see\n",
      "tag_name_sell\n",
      "tag_name_seo\n",
      "tag_name_sky\n",
      "tag_name_snake\n",
      "tag_name_snow\n",
      "tag_name_soft\n",
      "tag_name_sport\n",
      "tag_name_stock\n",
      "tag_name_summer\n",
      "tag_name_swim\n",
      "tag_name_tattooart\n",
      "tag_name_travel\n",
      "tag_name_trump\n",
      "tag_name_university\n",
      "tag_name_water\n",
      "tag_name_wolf\n",
      "tag_name_women\n",
      "tag_name_word\n",
      "tag_name_workathome\n",
      "tag_name_workonline\n",
      "tag_name_world\n"
     ]
    }
   ],
   "source": [
    "for i in df.columns:\n",
    "    print(i)"
   ]
  },
  {
   "cell_type": "markdown",
   "metadata": {},
   "source": [
    "### Split data and train model"
   ]
  },
  {
   "cell_type": "code",
   "execution_count": 19,
   "metadata": {},
   "outputs": [],
   "source": [
    "# Split & train the model\n",
    "X=df.drop('is_top',axis=1)\n",
    "y=df['is_top']\n",
    "\n",
    "# Split the Data\n",
    "X_train, X_test, y_train, y_test = train_test_split(X, y, test_size = 0.25, random_state = SEED)"
   ]
  },
  {
   "cell_type": "markdown",
   "metadata": {},
   "source": [
    "#### Scale the Features"
   ]
  },
  {
   "cell_type": "code",
   "execution_count": 20,
   "metadata": {},
   "outputs": [],
   "source": [
    "# Feature Scaling\n",
    "from sklearn.preprocessing import StandardScaler\n",
    "\n",
    "scaler = StandardScaler()\n",
    "\n",
    "# Fit only to the training data\n",
    "scaler.fit(X_train)\n",
    "\n",
    "StandardScaler(copy=True, with_mean=True, with_std=True)\n",
    "\n",
    "# Now apply the transformations to the data:\n",
    "X_train_scaled = scaler.transform(X_train)\n",
    "X_test_scaled = scaler.transform(X_test)"
   ]
  },
  {
   "cell_type": "markdown",
   "metadata": {},
   "source": [
    "#### Baseline model using Logistic Regression"
   ]
  },
  {
   "cell_type": "code",
   "execution_count": 21,
   "metadata": {},
   "outputs": [],
   "source": [
    "logreg = LogisticRegression()"
   ]
  },
  {
   "cell_type": "code",
   "execution_count": 22,
   "metadata": {},
   "outputs": [
    {
     "name": "stdout",
     "output_type": "stream",
     "text": [
      "F1 scores: [0.80177099 0.82455743 0.82104883 0.8336556  0.84865764]\n",
      "Mean & standard deviation: 0.83 0.02\n"
     ]
    }
   ],
   "source": [
    "# K-fold cross validation using F1-score as scorer\n",
    "scores = cross_val_score(logreg, \n",
    "                         X_train_scaled, \n",
    "                         y_train, \n",
    "                         cv=5, \n",
    "                         scoring='f1_macro')\n",
    "print('F1 scores:', scores)\n",
    "print('Mean & standard deviation: {:.2} {:.2f}'.format(scores.mean(), np.std(scores)))"
   ]
  },
  {
   "cell_type": "markdown",
   "metadata": {},
   "source": [
    "#### Model Selection - Train and evaluate multiple models"
   ]
  },
  {
   "cell_type": "code",
   "execution_count": 23,
   "metadata": {},
   "outputs": [],
   "source": [
    "# Lists to keep track of model metrics\n",
    "models = []\n",
    "precision_list = []\n",
    "recall_list = []\n",
    "f1_score_list = []\n",
    "training_acc_list = []\n",
    "testing_acc_list = []"
   ]
  },
  {
   "cell_type": "markdown",
   "metadata": {},
   "source": [
    "### Using ML Model: Logistic Regression"
   ]
  },
  {
   "cell_type": "code",
   "execution_count": 24,
   "metadata": {},
   "outputs": [],
   "source": [
    "# Logistic Regression\n",
    "logreg = LogisticRegression(n_jobs=-1)"
   ]
  },
  {
   "cell_type": "code",
   "execution_count": 25,
   "metadata": {},
   "outputs": [
    {
     "name": "stdout",
     "output_type": "stream",
     "text": [
      "Wall time: 5.22 s\n"
     ]
    },
    {
     "data": {
      "text/plain": [
       "GridSearchCV(cv=5, estimator=LogisticRegression(n_jobs=-1), n_jobs=-1,\n",
       "             param_grid={'C': array([3.16227766e-05, 3.43332002e-04, 3.72759372e-03, 4.04708995e-02,\n",
       "       4.39397056e-01, 4.77058270e+00, 5.17947468e+01, 5.62341325e+02,\n",
       "       6.10540230e+03, 6.62870316e+04, 7.19685673e+05, 7.81370738e+06,\n",
       "       8.48342898e+07, 9.21055318e+08, 1.00000000e+10]),\n",
       "                         'penalty': ['l1', 'l2', 'elasticnet']},\n",
       "             scoring='f1_macro')"
      ]
     },
     "execution_count": 25,
     "metadata": {},
     "output_type": "execute_result"
    }
   ],
   "source": [
    "%%time\n",
    "# Hyperparameter tuning using K-fold cross validation\n",
    "# ... via Grid Search method\n",
    "param_grid = {'penalty': ['l1', 'l2', 'elasticnet'],\n",
    "              'C': np.logspace(-4.5, 10, 15)}\n",
    "\n",
    "gs_logreg = GridSearchCV(logreg,\n",
    "                      param_grid, \n",
    "                      cv=5,\n",
    "                      scoring='f1_macro',\n",
    "                      n_jobs=-1)\n",
    "gs_logreg.fit(X_train_scaled, y_train)"
   ]
  },
  {
   "cell_type": "code",
   "execution_count": 26,
   "metadata": {},
   "outputs": [
    {
     "name": "stdout",
     "output_type": "stream",
     "text": [
      "LOGISTIC REGRESSION - FINE TUNED HYPERPARAMETERS\n",
      "\n",
      "Best Estimator: LogisticRegression(C=84834289.8244076, n_jobs=-1)\n",
      "Best Parameters: {'C': 84834289.8244076, 'penalty': 'l2'}\n",
      "Best Score: 0.8630919622213158\n"
     ]
    }
   ],
   "source": [
    "# Best model hyperparameters and score\n",
    "print('LOGISTIC REGRESSION - FINE TUNED HYPERPARAMETERS')\n",
    "print()\n",
    "print('Best Estimator:', gs_logreg.best_estimator_)\n",
    "print('Best Parameters:', gs_logreg.best_params_)\n",
    "print('Best Score:', gs_logreg.best_score_)"
   ]
  },
  {
   "cell_type": "code",
   "execution_count": 27,
   "metadata": {},
   "outputs": [
    {
     "data": {
      "text/plain": [
       "LogisticRegression(C=84834289.8244076, n_jobs=-1)"
      ]
     },
     "execution_count": 27,
     "metadata": {},
     "output_type": "execute_result"
    }
   ],
   "source": [
    "# Using best estimator found by GridSearchCV\n",
    "logreg = gs_logreg.best_estimator_\n",
    "logreg.fit(X_train_scaled, y_train)"
   ]
  },
  {
   "cell_type": "code",
   "execution_count": 28,
   "metadata": {},
   "outputs": [],
   "source": [
    "y_pred = logreg.predict(X_test_scaled)"
   ]
  },
  {
   "cell_type": "code",
   "execution_count": 29,
   "metadata": {},
   "outputs": [
    {
     "name": "stdout",
     "output_type": "stream",
     "text": [
      "              precision    recall  f1-score   support\n",
      "\n",
      "           0       0.82      0.93      0.87       263\n",
      "           1       0.92      0.81      0.87       280\n",
      "\n",
      "    accuracy                           0.87       543\n",
      "   macro avg       0.87      0.87      0.87       543\n",
      "weighted avg       0.88      0.87      0.87       543\n",
      "\n"
     ]
    }
   ],
   "source": [
    "print(classification_report(y_test, y_pred))"
   ]
  },
  {
   "cell_type": "code",
   "execution_count": 30,
   "metadata": {},
   "outputs": [],
   "source": [
    "models.append('Logistic Regression')\n",
    "precision_list.append(precision_score(y_test, y_pred, average='macro'))\n",
    "recall_list.append(recall_score(y_test, y_pred, average='macro'))\n",
    "f1_score_list.append(f1_score(y_test, y_pred, average='macro'))\n",
    "training_acc_list.append(accuracy_score(y_train, logreg.predict(X_train_scaled)))\n",
    "testing_acc_list.append(accuracy_score(y_test, y_pred))"
   ]
  },
  {
   "cell_type": "markdown",
   "metadata": {},
   "source": [
    "### Using ML Model: Random Forest"
   ]
  },
  {
   "cell_type": "code",
   "execution_count": 31,
   "metadata": {},
   "outputs": [],
   "source": [
    "rf = RandomForestClassifier(n_jobs=-1)"
   ]
  },
  {
   "cell_type": "code",
   "execution_count": 32,
   "metadata": {},
   "outputs": [
    {
     "name": "stdout",
     "output_type": "stream",
     "text": [
      "Wall time: 50.8 s\n"
     ]
    },
    {
     "data": {
      "text/plain": [
       "GridSearchCV(cv=5, estimator=RandomForestClassifier(n_jobs=-1), n_jobs=-1,\n",
       "             param_grid={'criterion': ['gini', 'entropy'],\n",
       "                         'max_depth': [None, 5, 10, 25],\n",
       "                         'min_samples_split': [5, 10, 15],\n",
       "                         'n_estimators': [100, 200, 300]},\n",
       "             scoring='f1_macro')"
      ]
     },
     "execution_count": 32,
     "metadata": {},
     "output_type": "execute_result"
    }
   ],
   "source": [
    "%%time\n",
    "# Hyperparameter tuning using K-fold cross validation\n",
    "# ... via Grid Search method\n",
    "param_grid = {'n_estimators': [100, 200, 300],\n",
    "              'criterion': ['gini', 'entropy'],\n",
    "              'max_depth': [None, 5, 10, 25],\n",
    "              'min_samples_split': [5, 10, 15]}\n",
    "\n",
    "gs_rf = GridSearchCV(rf,\n",
    "                    param_grid, \n",
    "                    cv=5,\n",
    "                    scoring='f1_macro',\n",
    "                    n_jobs=-1)\n",
    "gs_rf.fit(X_train_scaled, y_train)"
   ]
  },
  {
   "cell_type": "code",
   "execution_count": 33,
   "metadata": {
    "scrolled": true
   },
   "outputs": [
    {
     "name": "stdout",
     "output_type": "stream",
     "text": [
      "RANDOM FOREST - FINE TUNED HYPERPARAMETERS\n",
      "\n",
      "Best Estimator: RandomForestClassifier(criterion='entropy', max_depth=25, min_samples_split=15,\n",
      "                       n_jobs=-1)\n",
      "Best Parameters: {'criterion': 'entropy', 'max_depth': 25, 'min_samples_split': 15, 'n_estimators': 100}\n",
      "Best Score: 0.9507664705688077\n"
     ]
    }
   ],
   "source": [
    "# Best model hyperparameters and score\n",
    "print('RANDOM FOREST - FINE TUNED HYPERPARAMETERS')\n",
    "print()\n",
    "print('Best Estimator:', gs_rf.best_estimator_)\n",
    "print('Best Parameters:', gs_rf.best_params_)\n",
    "print('Best Score:', gs_rf.best_score_)"
   ]
  },
  {
   "cell_type": "code",
   "execution_count": 34,
   "metadata": {},
   "outputs": [
    {
     "data": {
      "text/plain": [
       "RandomForestClassifier(criterion='entropy', max_depth=25, min_samples_split=15,\n",
       "                       n_jobs=-1)"
      ]
     },
     "execution_count": 34,
     "metadata": {},
     "output_type": "execute_result"
    }
   ],
   "source": [
    "# Using best estimator found by GridSearchCV\n",
    "rf = gs_rf.best_estimator_\n",
    "rf.fit(X_train_scaled, y_train)"
   ]
  },
  {
   "cell_type": "code",
   "execution_count": 35,
   "metadata": {},
   "outputs": [],
   "source": [
    "y_pred = rf.predict(X_test_scaled)"
   ]
  },
  {
   "cell_type": "code",
   "execution_count": 36,
   "metadata": {},
   "outputs": [
    {
     "name": "stdout",
     "output_type": "stream",
     "text": [
      "              precision    recall  f1-score   support\n",
      "\n",
      "           0       0.97      0.90      0.94       263\n",
      "           1       0.92      0.97      0.94       280\n",
      "\n",
      "    accuracy                           0.94       543\n",
      "   macro avg       0.94      0.94      0.94       543\n",
      "weighted avg       0.94      0.94      0.94       543\n",
      "\n"
     ]
    }
   ],
   "source": [
    "print(classification_report(y_test, y_pred))"
   ]
  },
  {
   "cell_type": "code",
   "execution_count": 37,
   "metadata": {},
   "outputs": [],
   "source": [
    "models.append('Random Forest')\n",
    "precision_list.append(precision_score(y_test, y_pred, average='macro'))\n",
    "recall_list.append(recall_score(y_test, y_pred, average='macro'))\n",
    "f1_score_list.append(f1_score(y_test, y_pred, average='macro'))\n",
    "training_acc_list.append(accuracy_score(y_train, rf.predict(X_train_scaled)))\n",
    "testing_acc_list.append(accuracy_score(y_test, y_pred))"
   ]
  },
  {
   "cell_type": "markdown",
   "metadata": {},
   "source": [
    "### Summary"
   ]
  },
  {
   "cell_type": "code",
   "execution_count": 38,
   "metadata": {},
   "outputs": [],
   "source": [
    "model_metrics = pd.DataFrame(zip(models, training_acc_list, testing_acc_list,\n",
    "                                 precision_list, recall_list, f1_score_list), \n",
    "                             columns=['Model', 'Training Acc', 'Testing Acc', 'Precision', 'Recall', 'F1 Score'])"
   ]
  },
  {
   "cell_type": "code",
   "execution_count": 39,
   "metadata": {},
   "outputs": [
    {
     "data": {
      "text/html": [
       "<div>\n",
       "<style scoped>\n",
       "    .dataframe tbody tr th:only-of-type {\n",
       "        vertical-align: middle;\n",
       "    }\n",
       "\n",
       "    .dataframe tbody tr th {\n",
       "        vertical-align: top;\n",
       "    }\n",
       "\n",
       "    .dataframe thead th {\n",
       "        text-align: right;\n",
       "    }\n",
       "</style>\n",
       "<table border=\"1\" class=\"dataframe\">\n",
       "  <thead>\n",
       "    <tr style=\"text-align: right;\">\n",
       "      <th></th>\n",
       "      <th>Model</th>\n",
       "      <th>Training Acc</th>\n",
       "      <th>Testing Acc</th>\n",
       "      <th>Precision</th>\n",
       "      <th>Recall</th>\n",
       "      <th>F1 Score</th>\n",
       "    </tr>\n",
       "  </thead>\n",
       "  <tbody>\n",
       "    <tr>\n",
       "      <th>1</th>\n",
       "      <td>Random Forest</td>\n",
       "      <td>0.966195</td>\n",
       "      <td>0.939227</td>\n",
       "      <td>0.941652</td>\n",
       "      <td>0.938186</td>\n",
       "      <td>0.938987</td>\n",
       "    </tr>\n",
       "    <tr>\n",
       "      <th>0</th>\n",
       "      <td>Logistic Regression</td>\n",
       "      <td>0.900430</td>\n",
       "      <td>0.869245</td>\n",
       "      <td>0.873701</td>\n",
       "      <td>0.871021</td>\n",
       "      <td>0.869131</td>\n",
       "    </tr>\n",
       "  </tbody>\n",
       "</table>\n",
       "</div>"
      ],
      "text/plain": [
       "                 Model  Training Acc  Testing Acc  Precision    Recall  \\\n",
       "1        Random Forest      0.966195     0.939227   0.941652  0.938186   \n",
       "0  Logistic Regression      0.900430     0.869245   0.873701  0.871021   \n",
       "\n",
       "   F1 Score  \n",
       "1  0.938987  \n",
       "0  0.869131  "
      ]
     },
     "execution_count": 39,
     "metadata": {},
     "output_type": "execute_result"
    }
   ],
   "source": [
    "model_metrics.sort_values(by='F1 Score', ascending=False)"
   ]
  },
  {
   "cell_type": "markdown",
   "metadata": {},
   "source": [
    "### Predict & Evaluate the Best Model"
   ]
  },
  {
   "cell_type": "code",
   "execution_count": 40,
   "metadata": {},
   "outputs": [],
   "source": [
    "# Prediction by selected model\n",
    "y_pred = rf.predict(X_test_scaled)"
   ]
  },
  {
   "cell_type": "code",
   "execution_count": 41,
   "metadata": {},
   "outputs": [
    {
     "name": "stdout",
     "output_type": "stream",
     "text": [
      "              precision    recall  f1-score   support\n",
      "\n",
      "           0       0.97      0.90      0.94       263\n",
      "           1       0.92      0.97      0.94       280\n",
      "\n",
      "    accuracy                           0.94       543\n",
      "   macro avg       0.94      0.94      0.94       543\n",
      "weighted avg       0.94      0.94      0.94       543\n",
      "\n"
     ]
    }
   ],
   "source": [
    "# Classification Report\n",
    "print(classification_report(y_test,y_pred))"
   ]
  },
  {
   "cell_type": "code",
   "execution_count": 42,
   "metadata": {},
   "outputs": [
    {
     "data": {
      "text/plain": [
       "Text(33.0, 0.5, 'Predicted')"
      ]
     },
     "execution_count": 42,
     "metadata": {},
     "output_type": "execute_result"
    },
    {
     "data": {
      "image/png": "[encoded data removed]",
      "text/plain": [
       "<Figure size 432x288 with 1 Axes>"
      ]
     },
     "metadata": {
      "needs_background": "light"
     },
     "output_type": "display_data"
    }
   ],
   "source": [
    "## Confusion Matrix\n",
    "\n",
    "conf_mat = confusion_matrix(y_test, y_pred)\n",
    "sns.heatmap(conf_mat.T, annot=True, fmt='d', cbar=False, cmap=sns.cubehelix_palette(start=.5, rot=-.5, as_cmap=True),\n",
    "          xticklabels=['No','Yes'],\n",
    "          yticklabels=['No','Yes'] )\n",
    "plt.xlabel('Actuals')\n",
    "plt.ylabel('Predicted')"
   ]
  },
  {
   "cell_type": "markdown",
   "metadata": {},
   "source": [
    "### Get and plot features importance"
   ]
  },
  {
   "cell_type": "code",
   "execution_count": 43,
   "metadata": {},
   "outputs": [],
   "source": [
    "# Creating the feature importances dataframe\n",
    "feature_importance = np.array(rf.feature_importances_)\n",
    "feature_names = np.array(X.columns)\n",
    "\n",
    "feat_imp = pd.DataFrame({'feature_names':feature_names,'feature_importance':feature_importance})\n",
    "feat_imp_sorted = feat_imp.sort_values('feature_importance', ascending=False)"
   ]
  },
  {
   "cell_type": "code",
   "execution_count": 47,
   "metadata": {},
   "outputs": [
    {
     "data": {
      "text/plain": [
       "<AxesSubplot:xlabel='feature_importance', ylabel='feature_names'>"
      ]
     },
     "execution_count": 47,
     "metadata": {},
     "output_type": "execute_result"
    },
    {
     "data": {
      "image/png": "[encoded data removed]",
      "text/plain": [
       "<Figure size 576x5760 with 1 Axes>"
      ]
     },
     "metadata": {
      "needs_background": "light"
     },
     "output_type": "display_data"
    }
   ],
   "source": [
    "plt.figure(figsize=(8,80))\n",
    "sns.barplot(x=feat_imp_sorted['feature_importance'], y=feat_imp_sorted['feature_names'])"
   ]
  },
  {
   "cell_type": "markdown",
   "metadata": {},
   "source": [
    "### Mission Completed!"
   ]
  }
 ],
 "metadata": {
  "kernelspec": {
   "display_name": "Python 3",
   "language": "python",
   "name": "python3"
  },
  "language_info": {
   "codemirror_mode": {
    "name": "ipython",
    "version": 3
   },
   "file_extension": ".py",
   "mimetype": "text/x-python",
   "name": "python",
   "nbconvert_exporter": "python",
   "pygments_lexer": "ipython3",
   "version": "3.8.5"
  }
 },
 "nbformat": 4,
 "nbformat_minor": 4
}
